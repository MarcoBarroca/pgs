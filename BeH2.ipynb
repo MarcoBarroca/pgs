{
 "cells": [
  {
   "cell_type": "markdown",
   "metadata": {},
   "source": [
    "# Tapering off qubits using spatial symmetries in $BeH_2$\n"
   ]
  },
  {
   "cell_type": "code",
   "execution_count": 4,
   "metadata": {},
   "outputs": [
    {
     "ename": "ModuleNotFoundError",
     "evalue": "No module named 'qiskit.aqua.operators'",
     "output_type": "error",
     "traceback": [
      "\u001b[0;31m---------------------------------------------------------------------------\u001b[0m",
      "\u001b[0;31mModuleNotFoundError\u001b[0m                       Traceback (most recent call last)",
      "\u001b[0;32m<ipython-input-4-549ee5521ac0>\u001b[0m in \u001b[0;36m<module>\u001b[0;34m\u001b[0m\n\u001b[1;32m     26\u001b[0m \u001b[0;32mimport\u001b[0m \u001b[0mint_func\u001b[0m\u001b[0;34m\u001b[0m\u001b[0;34m\u001b[0m\u001b[0m\n\u001b[1;32m     27\u001b[0m \u001b[0;32mfrom\u001b[0m \u001b[0mint_func\u001b[0m \u001b[0;32mimport\u001b[0m \u001b[0mqmol_func\u001b[0m\u001b[0;34m\u001b[0m\u001b[0;34m\u001b[0m\u001b[0m\n\u001b[0;32m---> 28\u001b[0;31m \u001b[0;32mfrom\u001b[0m \u001b[0mtaper_qubits_rm_funcs\u001b[0m \u001b[0;32mimport\u001b[0m \u001b[0;34m*\u001b[0m\u001b[0;34m\u001b[0m\u001b[0;34m\u001b[0m\u001b[0m\n\u001b[0m\u001b[1;32m     29\u001b[0m \u001b[0;31m# import taper_qubits_rm_funcs.qubit_tapering\u001b[0m\u001b[0;34m\u001b[0m\u001b[0;34m\u001b[0m\u001b[0;34m\u001b[0m\u001b[0m\n\u001b[1;32m     30\u001b[0m \u001b[0;31m# from taper_qubits_rm_funcs import r_mat_func\u001b[0m\u001b[0;34m\u001b[0m\u001b[0;34m\u001b[0m\u001b[0;34m\u001b[0m\u001b[0m\n",
      "\u001b[0;32m~/quantum_code/mole_geo_symmetry/taper_qubits_rm_funcs.py\u001b[0m in \u001b[0;36m<module>\u001b[0;34m\u001b[0m\n\u001b[1;32m      9\u001b[0m \u001b[0;32mfrom\u001b[0m \u001b[0mqiskit\u001b[0m\u001b[0;34m.\u001b[0m\u001b[0mchemistry\u001b[0m \u001b[0;32mimport\u001b[0m \u001b[0mQMolecule\u001b[0m\u001b[0;34m\u001b[0m\u001b[0;34m\u001b[0m\u001b[0m\n\u001b[1;32m     10\u001b[0m \u001b[0;32mimport\u001b[0m \u001b[0mnumpy\u001b[0m \u001b[0;32mas\u001b[0m \u001b[0mnp\u001b[0m\u001b[0;34m\u001b[0m\u001b[0;34m\u001b[0m\u001b[0m\n\u001b[0;32m---> 11\u001b[0;31m \u001b[0;32mfrom\u001b[0m \u001b[0mqiskit\u001b[0m\u001b[0;34m.\u001b[0m\u001b[0maqua\u001b[0m\u001b[0;34m.\u001b[0m\u001b[0moperators\u001b[0m \u001b[0;32mimport\u001b[0m \u001b[0mWeightedPauliOperator\u001b[0m \u001b[0;32mas\u001b[0m \u001b[0mWPO\u001b[0m\u001b[0;34m\u001b[0m\u001b[0;34m\u001b[0m\u001b[0m\n\u001b[0m\u001b[1;32m     12\u001b[0m \u001b[0;32mfrom\u001b[0m \u001b[0mqiskit\u001b[0m\u001b[0;34m.\u001b[0m\u001b[0maqua\u001b[0m\u001b[0;34m.\u001b[0m\u001b[0moperators\u001b[0m \u001b[0;32mimport\u001b[0m \u001b[0mZ2Symmetries\u001b[0m\u001b[0;34m,\u001b[0m \u001b[0mWeightedPauliOperator\u001b[0m\u001b[0;34m\u001b[0m\u001b[0;34m\u001b[0m\u001b[0m\n\u001b[1;32m     13\u001b[0m \u001b[0;32mfrom\u001b[0m \u001b[0mqiskit\u001b[0m\u001b[0;34m.\u001b[0m\u001b[0maqua\u001b[0m\u001b[0;34m.\u001b[0m\u001b[0moperators\u001b[0m \u001b[0;32mimport\u001b[0m \u001b[0mcommon\u001b[0m\u001b[0;34m\u001b[0m\u001b[0;34m\u001b[0m\u001b[0m\n",
      "\u001b[0;31mModuleNotFoundError\u001b[0m: No module named 'qiskit.aqua.operators'"
     ]
    }
   ],
   "source": [
    "# importing stuff\n",
    "import logging\n",
    "import copy\n",
    "import itertools\n",
    "# with warnings.catch_warnings():\n",
    "#     warnings.simplefilter(\"ignore\", category=PendingDeprecationWarning)\n",
    "#     from third_party_lib import some_module\n",
    "from qiskit.quantum_info import Pauli\n",
    "from pyscf import gto, scf, ao2mo\n",
    "from pyscf.lib import param\n",
    "from scipy import linalg as scila\n",
    "from pyscf.lib import logger as pylogger\n",
    "# from qiskit.chemistry import AquaChemistryError\n",
    "from qiskit.chemistry import QMolecule\n",
    "import numpy as np\n",
    "from qiskit.aqua import Operator\n",
    "from qiskit.aqua.algorithms import ExactEigensolver\n",
    "# import gse_algo as ga\n",
    "import scipy\n",
    "from pyscf.scf.hf import get_ovlp\n",
    "from symmetries import find_symmetry_ops\n",
    "from qiskit.chemistry import FermionicOperator\n",
    "from int_func import qmol_func\n",
    "\n",
    "logger = logging.getLogger(__name__)\n",
    "import int_func\n",
    "from int_func import qmol_func\n",
    "from taper_qubits_rm_funcs import *\n",
    "# import taper_qubits_rm_funcs.qubit_tapering\n",
    "# from taper_qubits_rm_funcs import r_mat_func\n",
    "# from taper_qubits_rm_funcs import qubit_tapering\n",
    "from r_mat_for_mols import mol_r_matrices, check_commute\n",
    "import warnings\n",
    "warnings.simplefilter(\"ignore\", category=PendingDeprecationWarning)\n"
   ]
  },
  {
   "cell_type": "code",
   "execution_count": 14,
   "metadata": {},
   "outputs": [
    {
     "name": "stdout",
     "output_type": "stream",
     "text": [
      "BeH2\n",
      "converged SCF energy = -15.5613526278409\n",
      "True\n",
      "True\n",
      "True\n",
      "True\n",
      "All the above matrices work!\n",
      "checking the v matrix...\n",
      "v matrix is  unitary.\n"
     ]
    }
   ],
   "source": [
    "# Change the following flag to true to print the R matrices.\n",
    "FLAG_PRINT_R_MATRICES = False\n",
    "check_ref_energy = False\n",
    "AO = True\n",
    "MF = 'BeH2'\n",
    "check_r_mat_commut=True\n",
    "run_vqe = False\n",
    "# This calculates the reference eigenspectrum. Make the following\n",
    "# flag true, only when the system is small.\n",
    "check_ref_energy = False\n",
    "# r_mat_func \n",
    "x = r_mat_funcs(MF, check_r_mat_commut,AO)\n",
    "\n",
    "# printing the R-matrices for BeH2\n",
    "counter = 1\n",
    "if FLAG_PRINT_R_MATRICES:\n",
    "    for i in x.r_matrices:\n",
    "        print('R'+str(counter)+' = ')\n",
    "        print(i)\n",
    "        counter+=1\n",
    "# The R-matrices are simultaneously diagonalized\n",
    "[r_mat_evals,v_matrix] = x.sim_diag(x.r_matrices)\n"
   ]
  },
  {
   "cell_type": "code",
   "execution_count": 16,
   "metadata": {},
   "outputs": [
    {
     "name": "stdout",
     "output_type": "stream",
     "text": [
      "Number of terms in the Hamiltonian in AO basis\n",
      "1424\n",
      "Final number of terms in the Hamiltonian in AO basis after the transformation\n",
      "824\n"
     ]
    }
   ],
   "source": [
    "# Getting the qubit opertor form of Hamiltonian\n",
    "qub_op = x.fer_op.mapping('jordan_wigner')\n",
    "# Total number of terms in the qubit operator Hamiltonian\n",
    "qub_op.chop()\n",
    "print('Number of terms in the Hamiltonian in AO basis')\n",
    "print(len(qub_op._paulis))\n",
    "\n",
    "# Getting and transforming the Ham with V matrix.\n",
    "v_qubit_op = x.sym_transf_ham_qub_op(v_matrix)\n",
    "\n",
    "#Printing the number of terms in the Hamiltonian\n",
    "print('Final number of terms in the Hamiltonian in AO basis after the transformation')\n",
    "print(len(v_qubit_op._paulis))"
   ]
  },
  {
   "cell_type": "code",
   "execution_count": 18,
   "metadata": {},
   "outputs": [
    {
     "name": "stderr",
     "output_type": "stream",
     "text": [
      "/Users/kanavsetia/q_code/test_repos/qiskit-aqua/qiskit/aqua/operator.py:1691: DeprecationWarning: The `Operator` class is deprecated and will be removed after 0.6. Use the class for each representation instead, including `MatrixOperator`, `WeightedPauliOperator` and `TPBGroupedWeightedPauliOperator`\n",
      "  DeprecationWarning)\n"
     ]
    }
   ],
   "source": [
    "# Sanity check. Calculate the spectrum of Hamiltonian\n",
    "\n",
    "if check_ref_energy ==True:\n",
    "    ee = ExactEigensolver(qub_op, k=1)\n",
    "    ee_result = ee.run()\n",
    "#   Get the first 6 eigenvalues of the Hamiltonian spectrum\n",
    "    ref_min_eigvals = ee_result['eigvals'][0:6]\n",
    "    # This is the reference value from Hamiltonian in AO basis\n",
    "    print('Eigen value of the full Ham in AO basis')\n",
    "    print(ref_min_eigvals)\n",
    "\n",
    "# The set of symmetries is not independent, so, the following code gets the independent set of symmetries.\n",
    "r_mat_evals = x.ind_symm_r_ev_mat(r_mat_evals)\n",
    "sym_list = x.get_symm_list(r_mat_evals)\n",
    "\n"
   ]
  },
  {
   "cell_type": "code",
   "execution_count": null,
   "metadata": {},
   "outputs": [],
   "source": [
    "# In order to check if the symmetries commute with Ham, uncomment the following piece of code:\n",
    "print(\"check the commutativity of the found symmetry paulis between H'.\")\n",
    "for symm in sym_list:\n",
    "    symm_op = Operator(paulis=[[1.0, symm]])\n",
    "    is_commutes = check_commute(symm_op, v_qubit_op)\n",
    "    print(symm_op.print_operators())\n",
    "    # symm_op.to_matrix()\n",
    "    # print('Trace of the operators')\n",
    "    # print(np.trace(symm_op._matrix.todense()))\n",
    "    sym_la = symm.to_label()[::-1]\n",
    "    ind = [i for i, a in enumerate(sym_la) if a == 'Z']\n",
    "    print(ind)\n",
    "    print(\"symm is {} commutes.\".format(\"\" if is_commutes else \"NOT\"))\n",
    "\n",
    "# exit()\n",
    "# Get the unitary operators (cliffords) corresponding the single qubit string.\n",
    "\n",
    "[cliffords, single_qubit_list] = x.get_cliffords(r_mat_evals,sym_list)\n",
    "print('Following are the qubits which are tappered off.')\n",
    "print(single_qubit_list)\n",
    "\n",
    "# exit()\n",
    "\n",
    "\n",
    "print(\"Trying to tapering\")\n",
    "correct_sector = None\n",
    "for taper_coeff in itertools.product([1, -1], repeat=len(single_qubit_list)):\n",
    "    tapered_qubit_op = Operator.qubit_tapering(v_qubit_op, cliffords, single_qubit_list, list(taper_coeff))\n",
    "    ee = ExactEigensolver(tapered_qubit_op, k=1)\n",
    "    ee_result = ee.run()\n",
    "    temp_min_eigvals = ee_result['eigvals'][0]\n",
    "    if np.isclose(temp_min_eigvals, ref_min_eigvals, rtol=1e-8):\n",
    "        correct_sector = list(taper_coeff)\n",
    "    print(\"at sector {}: eig value: {}; reference: {}\".format(list(taper_coeff), temp_min_eigvals, ref_min_eigvals.real))\n",
    "\n",
    "# correct_sector=[1.,1.,1.,-1.,-1.]\n",
    "\n",
    "# Get the tappered qubit operator\n",
    "tapered_qubit_op = x.get_tapered_qubit_op(v_qubit_op,cliffords,single_qubit_list,correct_sector)\n",
    "ee = ExactEigensolver(tapered_qubit_op.copy(), k=6)\n",
    "ee_result = ee.run()\n",
    "print('Getting the eigen values of the tappered off qubit operator')\n",
    "print(ee_result['eigvals'][0:6])\n",
    "\n",
    "if run_vqe==True:\n",
    "    init_state = HartreeFock(num_qubits=qub_op.num_qubits- len(single_qubit_list), num_orbitals=x.fer_op.modes,\n",
    "                        qubit_mapping='jordan_wigner', two_qubit_reduction=False,\n",
    "                        num_particles=x.num_particles, sq_list=single_qubit_list)\n",
    "\n",
    "    # setup variationl form\n",
    "    var_form = UCCSD(num_qubits=qub_op.num_qubits- len(single_qubit_list), depth=1,\n",
    "                    num_orbitals=x.fer_op.modes, \n",
    "                    num_particles=x.num_particles,\n",
    "                    active_occupied=None, active_unoccupied=None, initial_state=init_state,\n",
    "                    qubit_mapping='jordan_wigner', two_qubit_reduction=False, \n",
    "                    num_time_slices=1,\n",
    "                    #    )\n",
    "                    cliffords=cliffords, sq_list=single_qubit_list, tapering_values=correct_sector, symmetries=sym_list)\n",
    "\n",
    "    # var_form = RYRZ(num_qubits=qub_op.num_qubits- len(single_qubit_list), depth=30,entanglement='linear')\n",
    "    # print(type(var_form))\n",
    "    # setup optimizer\n",
    "    optimizer = COBYLA(maxiter=2000)\n",
    "    # import pdb; pdb.set_trace()\n",
    "    # set vqe\n",
    "    algo = VQE(tapered_qubit_op, var_form, optimizer, 'matrix')\n",
    "\n",
    "    # setup backend\n",
    "    backend = BasicAer.get_backend('statevector_simulator')\n",
    "    quantum_instance = QuantumInstance(backend=backend)\n",
    "\n",
    "\n",
    "    algo_result = algo.run(quantum_instance)\n",
    "\n",
    "\n",
    "    print(algo_result['energy'])\n"
   ]
  },
  {
   "cell_type": "code",
   "execution_count": 8,
   "metadata": {},
   "outputs": [
    {
     "name": "stderr",
     "output_type": "stream",
     "text": [
      "/home/k/quantum_code/test_env/lib/python3.6/site-packages/pyscf/scf/chkfile.py:31: H5pyDeprecationWarning: The default file mode will change to 'r' (read-only) in h5py 3.0. To suppress this warning, pass the mode you need to h5py.File(), or set the global default h5.get_config().default_file_mode, or set the environment variable H5PY_DEFAULT_READONLY=1. Available modes are: 'r', 'r+', 'w', 'w-'/'x', 'a'. See the docs for details.\n",
      "  with h5py.File(chkfile) as fh5:\n"
     ]
    },
    {
     "ename": "AttributeError",
     "evalue": "'QMolecule' object has no attribute 'hcore'",
     "output_type": "error",
     "traceback": [
      "\u001b[0;31m---------------------------------------------------------------------------\u001b[0m",
      "\u001b[0;31mAttributeError\u001b[0m                            Traceback (most recent call last)",
      "\u001b[0;32m<ipython-input-8-e731db7cf5a5>\u001b[0m in \u001b[0;36m<module>\u001b[0;34m\u001b[0m\n\u001b[1;32m      8\u001b[0m                          unit=UnitsType.ANGSTROM, charge=0, spin=0, basis='sto3g')\n\u001b[1;32m      9\u001b[0m \u001b[0mmolecule\u001b[0m \u001b[0;34m=\u001b[0m \u001b[0mdriver\u001b[0m\u001b[0;34m.\u001b[0m\u001b[0mrun\u001b[0m\u001b[0;34m(\u001b[0m\u001b[0;34m)\u001b[0m\u001b[0;34m\u001b[0m\u001b[0;34m\u001b[0m\u001b[0m\n\u001b[0;32m---> 10\u001b[0;31m \u001b[0mone_b\u001b[0m\u001b[0;34m=\u001b[0m\u001b[0mQMolecule\u001b[0m\u001b[0;34m.\u001b[0m\u001b[0monee_to_spin\u001b[0m\u001b[0;34m(\u001b[0m\u001b[0mmolecule\u001b[0m\u001b[0;34m.\u001b[0m\u001b[0mhcore\u001b[0m\u001b[0;34m)\u001b[0m\u001b[0;34m\u001b[0m\u001b[0;34m\u001b[0m\u001b[0m\n\u001b[0m\u001b[1;32m     11\u001b[0m \u001b[0mtwo_b\u001b[0m\u001b[0;34m=\u001b[0m\u001b[0mQMolecule\u001b[0m\u001b[0;34m.\u001b[0m\u001b[0mtwoe_to_spin\u001b[0m\u001b[0;34m(\u001b[0m\u001b[0mmolecule\u001b[0m\u001b[0;34m.\u001b[0m\u001b[0meri\u001b[0m\u001b[0;34m)\u001b[0m\u001b[0;34m\u001b[0m\u001b[0;34m\u001b[0m\u001b[0m\n\u001b[1;32m     12\u001b[0m \u001b[0;31m# np.savez(MoleculeFlag+'_ao.npz',one_b=_q_.one_body_integrals,two_b=_q_.two_body_integrals)\u001b[0m\u001b[0;34m\u001b[0m\u001b[0;34m\u001b[0m\u001b[0;34m\u001b[0m\u001b[0m\n",
      "\u001b[0;31mAttributeError\u001b[0m: 'QMolecule' object has no attribute 'hcore'"
     ]
    }
   ],
   "source": [
    "from qiskit.chemistry.drivers import PySCFDriver, UnitsType\n",
    "from qiskit.aqua.algorithms import ExactEigensolver\n",
    "from qiskit.chemistry import QMolecule\n",
    "import warnings\n",
    "from qiskit.chemistry.fermionic_operator import FermionicOperator\n",
    "warnings.filterwarnings(\"ignore\",category=DeprecationWarning)\n",
    "driver = PySCFDriver(atom='Be 0.000 0.0000 0.0000; H 1.291 0.0000 0.000; H -1.291,0.0000, 0.000',\n",
    "                         unit=UnitsType.ANGSTROM, charge=0, spin=0, basis='sto3g')\n",
    "molecule = driver.run()\n",
    "one_b=QMolecule.onee_to_spin(molecule.hcore)\n",
    "two_b=QMolecule.twoe_to_spin(molecule.eri)\n",
    "# np.savez(MoleculeFlag+'_ao.npz',one_b=_q_.one_body_integrals,two_b=_q_.two_body_integrals)\n",
    "\n",
    "fer_op = FermionicOperator(h1=one_b, h2=two_b)\n",
    "qub_op = fer_op.mapping('jordan_wigner')\n",
    "ee = ExactEigensolver(qub_op, k=6)\n",
    "ee_result = ee.run()\n",
    "ref_min_eigvals = ee_result['eigvals'][0:6]\n",
    "print(ref_min_eigvals)\n"
   ]
  },
  {
   "cell_type": "code",
   "execution_count": 5,
   "metadata": {},
   "outputs": [
    {
     "name": "stderr",
     "output_type": "stream",
     "text": [
      "/home/k/quantum_code/test_env/lib/python3.6/site-packages/pyscf/scf/chkfile.py:31: H5pyDeprecationWarning: The default file mode will change to 'r' (read-only) in h5py 3.0. To suppress this warning, pass the mode you need to h5py.File(), or set the global default h5.get_config().default_file_mode, or set the environment variable H5PY_DEFAULT_READONLY=1. Available modes are: 'r', 'r+', 'w', 'w-'/'x', 'a'. See the docs for details.\n",
      "  with h5py.File(chkfile) as fh5:\n"
     ]
    },
    {
     "name": "stdout",
     "output_type": "stream",
     "text": [
      "[-19.07888937+2.81693983e-16j -18.87685668+4.28491893e-16j\n",
      " -18.87685668-4.44089210e-16j -18.87685668+3.05338463e-16j\n",
      " -18.87685668-1.21539064e-15j -18.8127128 +2.39870990e-16j]\n"
     ]
    }
   ],
   "source": [
    "from qiskit.chemistry.drivers import PySCFDriver, UnitsType\n",
    "from qiskit.aqua.algorithms import ExactEigensolver\n",
    "from qiskit.chemistry import QMolecule\n",
    "import warnings\n",
    "from qiskit.chemistry.fermionic_operator import FermionicOperator\n",
    "warnings.filterwarnings(\"ignore\",category=DeprecationWarning)\n",
    "driver = PySCFDriver(atom='Be 0.000 0.0000 0.0000; H 1.291 0.0000 0.000; H -1.291,0.0000, 0.000',\n",
    "             unit=UnitsType.ANGSTROM,\n",
    "                         charge=0, spin=0, basis='sto3g')\n",
    "molecule = driver.run()\n",
    "one_b = molecule.one_body_integrals\n",
    "two_b = molecule.two_body_integrals\n",
    "fer_op = FermionicOperator(h1=one_b, h2=two_b)\n",
    "qub_op = fer_op.mapping('jordan_wigner')\n",
    "ee = ExactEigensolver(qub_op, k=6)\n",
    "ee_result = ee.run()\n",
    "ref_min_eigvals = ee_result['eigvals'][0:6]\n",
    "print(ref_min_eigvals)"
   ]
  },
  {
   "cell_type": "code",
   "execution_count": 9,
   "metadata": {},
   "outputs": [
    {
     "name": "stdout",
     "output_type": "stream",
     "text": [
      "converged SCF energy = -15.5613526278408\n",
      "[-19.07888937+1.36871891e-16j -18.87685668-4.37761375e-17j\n",
      " -18.87685668-4.11981101e-17j -18.87685668-3.58264342e-17j\n",
      " -18.87685668+5.94099426e-17j -18.8127128 +3.07051567e-17j]\n"
     ]
    }
   ],
   "source": [
    "mol = gto.Mole()\n",
    "mol.atom = 'Be 0.000 0.0000 0.0000; H 1.291 0.0000 0.000; H -1.291,0.0000, 0.000'\n",
    "mol.basis = 'sto-3g'\n",
    "# mol.basis = {'O': 'sto-3g', 'H': 'cc-pvdz', 'H&#64;2': '6-31G'}\n",
    "\n",
    "is_atomic = True\n",
    "mol.build()\n",
    "_q_ = qmol_func(mol, atomic=is_atomic)\n",
    "two_body_temp = QMolecule.twoe_to_spin(_q_.mo_eri_ints)\n",
    "temp_int = np.einsum('ijkl->ljik', _q_.mo_eri_ints)\n",
    "two_body_temp = QMolecule.twoe_to_spin(temp_int)\n",
    "mol = gto.M(atom=mol.atom, basis='sto-3g')\n",
    "\n",
    "O = get_ovlp(mol)\n",
    "X = np.kron(np.identity(2), np.linalg.inv(scipy.linalg.sqrtm(O)))\n",
    "\n",
    "fer_op = FermionicOperator(h1=_q_.one_body_integrals, h2=two_body_temp)\n",
    "fer_op.transform(X)\n",
    "qub_op = fer_op.mapping('jordan_wigner')\n",
    "\n",
    "ee = ExactEigensolver(qub_op, k=6)\n",
    "ee_result = ee.run()\n",
    "ref_min_eigvals = ee_result['eigvals'][0:6]\n",
    "print(ref_min_eigvals)"
   ]
  },
  {
   "cell_type": "code",
   "execution_count": null,
   "metadata": {},
   "outputs": [],
   "source": []
  }
 ],
 "metadata": {
  "kernelspec": {
   "display_name": "Python 3",
   "language": "python",
   "name": "python3"
  },
  "language_info": {
   "codemirror_mode": {
    "name": "ipython",
    "version": 3
   },
   "file_extension": ".py",
   "mimetype": "text/x-python",
   "name": "python",
   "nbconvert_exporter": "python",
   "pygments_lexer": "ipython3",
   "version": "3.6.8"
  }
 },
 "nbformat": 4,
 "nbformat_minor": 2
}
