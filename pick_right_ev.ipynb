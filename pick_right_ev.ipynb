{
 "cells": [
  {
   "cell_type": "code",
   "execution_count": 34,
   "metadata": {},
   "outputs": [],
   "source": [
    "import logging\n",
    "import copy\n",
    "import itertools\n",
    "from qiskit.quantum_info import Pauli\n",
    "from pyscf import gto, scf, ao2mo\n",
    "from pyscf.lib import param\n",
    "from scipy import linalg as scila\n",
    "from pyscf.lib import logger as pylogger\n",
    "# from qiskit.chemistry import AquaChemistryError\n",
    "from qiskit.chemistry import QMolecule\n",
    "import numpy as np\n",
    "from qiskit.aqua.operators import WeightedPauliOperator as WPO\n",
    "\n",
    "from qiskit.aqua.algorithms import ExactEigensolver\n",
    "# import gse_algo as ga\n",
    "import scipy\n",
    "from pyscf.scf.hf import get_ovlp\n",
    "from symmetries import find_symmetry_ops\n",
    "from qiskit.chemistry import FermionicOperator\n",
    "from int_func import qmol_func\n",
    "\n",
    "logger = logging.getLogger(__name__)\n",
    "# import int_func\n",
    "# from qiskit import BasicAer, Aer\n",
    "from qiskit.aqua import QuantumInstance\n",
    "from qiskit.aqua.algorithms.adaptive import VQE\n",
    "from qiskit.aqua.algorithms.classical import ExactEigensolver\n",
    "from qiskit.aqua.components.optimizers import SLSQP, CG\n",
    "from qiskit.aqua.operators import Z2Symmetries, WeightedPauliOperator\n",
    "from qiskit.chemistry.core import Hamiltonian, TransformationType, QubitMappingType\n",
    "from qiskit.chemistry.drivers import PySCFDriver, UnitsType\n",
    "from qiskit.chemistry.aqua_extensions.components.variational_forms import UCCSD\n",
    "from qiskit.chemistry.aqua_extensions.components.initial_states import HartreeFock\n",
    "from qiskit.chemistry import set_qiskit_chemistry_logging\n",
    "from qiskit.aqua.utils import CircuitCache\n",
    "from qiskit.chemistry.drivers import PSI4Driver,PySCFDriver, UnitsType\n",
    "\n",
    "import logging\n",
    "import itertools\n"
   ]
  },
  {
   "cell_type": "code",
   "execution_count": 44,
   "metadata": {},
   "outputs": [
    {
     "name": "stderr",
     "output_type": "stream",
     "text": [
      "WARNING:qiskit.chemistry.aqua_extensions.components.initial_states.hartree_fock:two_qubit_reduction only works with parity qubit mapping but you have jordan_wigner. We switch two_qubit_reduction to False.\n"
     ]
    },
    {
     "name": "stdout",
     "output_type": "stream",
     "text": [
      "Hartree-Fock state\n",
      "[False False  True  True  True  True  True False False  True  True  True\n",
      "  True  True]\n",
      "Coefficients for the two qubit tapering\n",
      "-1\n",
      "-1\n"
     ]
    }
   ],
   "source": [
    "# driver = PySCFDriver(atom='N 0.0 0.0 0.1493220; H 0.0 0.9474830 -0.3484190; H 0.8205440 -0.4737420 -0.3484190; H -0.8205440 -0.4737420 -0.3484190',\n",
    "#              unit=UnitsType.ANGSTROM,\n",
    "#                          charge=0, spin=0, basis='sto3g')\n",
    "num_spin_down_elec=5\n",
    "num_spin_up_elec=5\n",
    "num_particles=10\n",
    "# driver = PySCFDriver(atom='Li 0 0 0; H 1.5949 0.0000 0.000',\n",
    "#              unit=UnitsType.ANGSTROM,\n",
    "#                          charge=0, spin=0, basis='sto3g')\n",
    "# num_spin_down_elec=2\n",
    "# num_spin_up_elec=2\n",
    "# num_particles=4\n",
    "driver = PySCFDriver(atom='O 0.0 0.0 0.0;H 0.757 0.586 0.0; H -0.757 0.586 0.0',\n",
    "             unit=UnitsType.ANGSTROM,\n",
    "                         charge=0, spin=0, basis='sto3g')\n",
    "# num_spin_down_elec=3\n",
    "# num_spin_up_elec=3\n",
    "# num_particles=6\n",
    "# driver = PySCFDriver(atom='Be 0.0 0.0 0.0;H 1.291 0.0 0.0; H -1.291 0.0 0.0',\n",
    "#              unit=UnitsType.ANGSTROM,\n",
    "#                          charge=0, spin=0, basis='sto3g')\n",
    "\n",
    "molecule = driver.run()\n",
    "one_b = molecule.one_body_integrals\n",
    "two_b = molecule.two_body_integrals\n",
    "fer_op = FermionicOperator(h1=one_b, h2=two_b)\n",
    "qub_op = fer_op.mapping('jordan_wigner')\n",
    "\n",
    "num_qubs = np.shape(fer_op.h1)[0]\n",
    "# Getting the Hartree Fock state\n",
    "intial_state = HartreeFock(num_qubs, num_qubs, num_particles,\n",
    "qubit_mapping='jordan_wigner')\n",
    "HF_str = intial_state.bitstr\n",
    "print('Hartree-Fock state')\n",
    "print(HF_str)\n",
    "\n",
    "# The following method creates the symmetries and cliffords\n",
    "# corresponding to the two qubit reduction and then infers the\n",
    "# tapering off coefficient.\n",
    "\n",
    "def particle_cons_symm(qub_op, num_qubs, num_spin_up_elec, num_spin_down_elec):\n",
    "    sym_str_1 = 'I'*int(num_qubs/2)+'Z'*int(num_qubs/2)\n",
    "    sym_str_2 = 'Z'*int(num_qubs/2)+'I'*int(num_qubs/2)\n",
    "    symmetries = [Pauli.from_label(sym_str_1),Pauli.from_label(sym_str_2)]\n",
    "    sq_list = [0,int(num_qubs/2)]\n",
    "    cl_1 = 'I'*int(num_qubs-1)+'X'\n",
    "    cl_2 = 'I'*int(num_qubs/2-1)+'X'+'I'*int(num_qubs/2)\n",
    "    sq_paulis = [Pauli.from_label(cl_1), Pauli.from_label(cl_2)]\n",
    "    symm_list=[]\n",
    "    cliffords = []\n",
    "    cliffords.append(WPO([[1 / np.sqrt(2), symmetries[0]], [1 / np.sqrt(2), Pauli.from_label(cl_1)]]))\n",
    "    cliffords.append(WPO([[1 / np.sqrt(2), symmetries[1]], [1 / np.sqrt(2), Pauli.from_label(cl_2)]]))    \n",
    "    if num_spin_up_elec%2:\n",
    "        coeff_1 = -1\n",
    "    else:\n",
    "        coeff_1 = 1\n",
    "    if num_spin_down_elec%2:\n",
    "        coeff_2 = -1\n",
    "    else:\n",
    "        coeff_2 = 1\n",
    "    return [symmetries, sq_paulis, sq_list, cliffords, coeff_1, coeff_2]\n",
    "    \n",
    "[symmetries, sq_paulis, sq_list, cliffords, coeff_1, coeff_2] = particle_cons_symm(qub_op, num_qubs, num_spin_up_elec,num_spin_down_elec)\n",
    "z2symm = Z2Symmetries(symmetries, sq_paulis, sq_list, [coeff_1,coeff_2])\n",
    "# Two qubit taperring, qubit operator\n",
    "the_tapered_ops = z2symm.taper(qub_op)\n",
    "print('Coefficients for the two qubit tapering')\n",
    "print(coeff_1)\n",
    "print(coeff_2)\n"
   ]
  },
  {
   "cell_type": "code",
   "execution_count": 39,
   "metadata": {},
   "outputs": [
    {
     "name": "stdout",
     "output_type": "stream",
     "text": [
      "[False False  True  True  True  True  True False False  True  True  True\n",
      "  True  True]\n"
     ]
    }
   ],
   "source": [
    "\n"
   ]
  },
  {
   "cell_type": "code",
   "execution_count": 45,
   "metadata": {
    "scrolled": true
   },
   "outputs": [
    {
     "name": "stdout",
     "output_type": "stream",
     "text": [
      "IIIIIIIZZZZZZZ\n",
      "[6, 5, 4, 3, 2, 1, 0]\n",
      "ZZZZZZZIIIIIII\n",
      "[13, 12, 11, 10, 9, 8, 7]\n",
      "single qubit operators found:\n",
      "IIIIIIIIIIIIIX\n",
      "IIIIIIXIIIIIII\n",
      "cliffords found:\n",
      "IIIIIIIZZZZZZZ\t(0.7071067811865475+0j)\n",
      "IIIIIIIIIIIIIX\t(0.7071067811865475+0j)\n",
      "\n",
      "single-qubit list: [0, 7]\n",
      "ZZZZZZZIIIIIII\t(0.7071067811865475+0j)\n",
      "IIIIIIXIIIIIII\t(0.7071067811865475+0j)\n",
      "\n",
      "single-qubit list: [0, 7]\n"
     ]
    }
   ],
   "source": [
    "# Printing the symmetries for two qubit tapering along with cliffords\n",
    "Print_ops = True\n",
    "if Print_ops:\n",
    "    for symm in symmetries:\n",
    "    #     symm = Pauli.from_label(symm_str) \n",
    "        print(symm.to_label())\n",
    "        sym_la = symm.to_label()\n",
    "        ind = [13-i for i, a in enumerate(sym_la) if a == 'Z']\n",
    "        print(ind)\n",
    "    print('single qubit operators found:')\n",
    "    for sq in sq_paulis:\n",
    "        print(sq.to_label())\n",
    "    print('cliffords found:')\n",
    "    for clifford in cliffords:\n",
    "        print(clifford.print_details())\n",
    "        print('single-qubit list: {}'.format(sq_list))\n",
    "\n"
   ]
  },
  {
   "cell_type": "code",
   "execution_count": 46,
   "metadata": {},
   "outputs": [
    {
     "name": "stdout",
     "output_type": "stream",
     "text": [
      "ZIZIZIIIZIZIZZ\n",
      "[0, 2, 4, 8, 10, 12, 13]\n",
      "IIZIIIIIIZIIII\n",
      "[2, 9]\n",
      "ZIIIZIIZIIIZII\n",
      "[0, 4, 7, 11]\n",
      "ZZZZZZZIIIIIII\n",
      "[0, 1, 2, 3, 4, 5, 6]\n",
      "The coefficients for various symmetries are:\n",
      "[-1, 1, 1, -1]\n"
     ]
    }
   ],
   "source": [
    "# Finding all the symmetries using the find_Z2_symmetries:\n",
    "z2_symmetries = Z2Symmetries.find_Z2_symmetries(qub_op)\n",
    "taper_coef = []\n",
    "for sym in z2_symmetries.symmetries:\n",
    "    print(sym.to_label())\n",
    "    ind = [i for i, a in enumerate(sym.to_label()) if a == 'Z']\n",
    "    print(ind)\n",
    "    coef=1\n",
    "    for i in ind:\n",
    "        if HF_str[i]:\n",
    "            coef=coef*(-1)\n",
    "    taper_coef.append(coef)\n",
    "print('The coefficients for various symmetries are:')\n",
    "print(taper_coef)\n",
    "    \n",
    "the_tapered_ops_1 = z2_symmetries.taper(qub_op,taper_coef)"
   ]
  },
  {
   "cell_type": "code",
   "execution_count": 33,
   "metadata": {},
   "outputs": [
    {
     "name": "stdout",
     "output_type": "stream",
     "text": [
      "Eigenvalue of the full Ham\n",
      "(-84.20635059311851-6.1258910599948626e-15j)\n",
      "Eigenvalue from taperred off qubit operator\n",
      "(-84.2063505931178-5.512146308318243e-16j)\n"
     ]
    }
   ],
   "source": [
    "# running exact eigensolver without tapering off\n",
    "ee = ExactEigensolver(qub_op, k=1)\n",
    "ee_result = ee.run()\n",
    "#   Get the first eigenvalue of the Hamiltonian spectrum\n",
    "ref_min_eigvals = ee_result['eigvals'][0]\n",
    "# This is the reference value from Hamiltonian\n",
    "print('Eigenvalue of the full Ham')\n",
    "print(ref_min_eigvals)\n",
    "\n",
    "# running exact eigensolver after tapering off qubits (all the symmetries\n",
    "# not just two qubit tapering)\n",
    "ee = ExactEigensolver(the_tapered_ops_1, k=1)\n",
    "ee_result = ee.run()\n",
    "temp_min_eigvals = ee_result['eigvals'][0]\n",
    "\n",
    "print('Eigenvalue from taperred off qubit operator')\n",
    "print(temp_min_eigvals)\n",
    "\n",
    "# z2symm = Z2Symmetries(symmetries, sq_paulis, sq_list)\n",
    "# the_tapered_ops = z2symm.taper(qub_op)\n",
    "\n",
    "# for op in the_tapered_ops:\n",
    "#     ee = ExactEigensolver(op, k=1)\n",
    "#     ee_result = ee.run()\n",
    "#     temp_min_eigvals = ee_result['eigvals'][0]\n",
    "# #     if np.isclose(temp_min_eigvals, ref_min_eigvals, rtol=1e-8):\n",
    "# #         correct_sector = list(taper_coeff)\n",
    "#     print(\"eig value: {}\".format(temp_min_eigvals))\n",
    "\n",
    "# for taper_coeff in itertools.product([1, -1], repeat=len(sq_list)):\n",
    "    \n",
    "#     z2symm = Z2Symmetries(symmetries, sq_paulis, sq_list, taper_coeff)\n",
    "#     the_tapered_ops = z2symm.taper(qub_op)\n",
    "# #     tapered_qubit_op = Operator.qubit_tapering(qub_op, cliffords, sq_list, list(taper_coeff))\n",
    "#     ee = ExactEigensolver(the_tapered_ops, k=1)\n",
    "#     ee_result = ee.run()\n",
    "#     temp_min_eigvals = ee_result['eigvals'][0]\n",
    "#     if np.isclose(temp_min_eigvals, ref_min_eigvals, rtol=1e-8):\n",
    "#         correct_sector = list(taper_coeff)\n",
    "#     print(\"at sector {}: eig value: {}; reference: {}\".format(list(taper_coeff), temp_min_eigvals, ref_min_eigvals.real))"
   ]
  },
  {
   "cell_type": "code",
   "execution_count": null,
   "metadata": {},
   "outputs": [],
   "source": []
  },
  {
   "cell_type": "code",
   "execution_count": null,
   "metadata": {},
   "outputs": [],
   "source": []
  }
 ],
 "metadata": {
  "kernelspec": {
   "display_name": "Python 3",
   "language": "python",
   "name": "python3"
  },
  "language_info": {
   "codemirror_mode": {
    "name": "ipython",
    "version": 3
   },
   "file_extension": ".py",
   "mimetype": "text/x-python",
   "name": "python",
   "nbconvert_exporter": "python",
   "pygments_lexer": "ipython3",
   "version": "3.7.3"
  }
 },
 "nbformat": 4,
 "nbformat_minor": 2
}
