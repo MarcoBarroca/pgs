{
 "cells": [
  {
   "cell_type": "markdown",
   "metadata": {},
   "source": [
    "# Tapering off qubits using spatial symmetries\n",
    "\n",
    "The following code demonstrates the procedure to taper off qubits using point group symmetries present in the molecules. This notebook is part of the repository mole_geo_symmetries hosted on github. The repository is compatible only with qiskit-0.11.0 \n",
    "There are three main files that the following code uses:\n",
    "\n",
    "1. r_mat_for_mols_old.py: This file is for running the pyscf for getting the integrals for a given molecule and the R matrices for the various symmetries present in the molecule.\n",
    "\n",
    "2. taper_qubits_rm_funcs_old.py: This is the file with all the subroutines for tapering off the qubits using the point group symmetries. This file also contains a script that runs through the whole procedure for a given molecule. Part of this script is used in this jupyter notebook to demonstrate the procedure.\n",
    "\n",
    "3. int_func.py: This is a helper file which is a modified version of the qiskit driver for pyscf. This was developed to get the atomic integrals.\n",
    "\n",
    "The code below is structure as follows:\n",
    "- import statements\n",
    "- setup for a given molecule and getting an object that contains R matrices, fermionicoperator. The R matrices and fermionic operators are used to get the V matrix.\n",
    "- The fermionicoperator is transformed using Jordan-Wigner mapping to qubit operator(qub_op). A copy of fermionicoperator is transformed using the v matrix. Another qubit operator (v_qubit_op) is obtained using Jordan-Wigner mapping on the transformed Hamiltonian.\n",
    "- Exact diagonalization is performed on the qub_op to get the reference eigenvalues.\n",
    "- The symmetries are constructed from the transformed R-matrices.\n",
    "- As a sanity check, it is verified that these symmetries commute with the Hamiltonian.\n",
    "- The cliffords are obtained and the qubits are tapered off. This is an iterative process as we do not know the correct eigen sector.\n",
    "- The correct tapered off qubit operator is printed along with the lowest eigenvalues.\n",
    "- Finally, the fermionic operator and qubit operator are obtained in the molecular orbital basis and the lowest eigenvalue are obtained as another sanity check for the values obtained from the AO basis.\n"
   ]
  },
  {
   "cell_type": "code",
   "execution_count": 1,
   "metadata": {},
   "outputs": [
    {
     "name": "stderr",
     "output_type": "stream",
     "text": [
      "/home/k/quantum_code/test_env/lib/python3.6/site-packages/qutip/__init__.py:161: UserWarning: matplotlib not found: Graphics will not work.\n",
      "  warnings.warn(\"matplotlib not found: Graphics will not work.\")\n"
     ]
    }
   ],
   "source": [
    "# importing stuff\n",
    "import logging\n",
    "import copy\n",
    "import itertools\n",
    "from qiskit.quantum_info import Pauli\n",
    "from pyscf import gto, scf, ao2mo\n",
    "from pyscf.lib import param\n",
    "from scipy import linalg as scila\n",
    "from pyscf.lib import logger as pylogger\n",
    "from qiskit.chemistry import QMolecule\n",
    "import numpy as np\n",
    "from qiskit.aqua import Operator\n",
    "from qiskit.aqua.algorithms import ExactEigensolver\n",
    "import scipy\n",
    "from pyscf.scf.hf import get_ovlp\n",
    "from symmetries import find_symmetry_ops\n",
    "from qiskit.chemistry import FermionicOperator\n",
    "from int_func import qmol_func\n",
    "logger = logging.getLogger(__name__)\n",
    "import int_func\n",
    "from int_func import qmol_func\n",
    "from taper_qubits_rm_funcs_old import *\n",
    "from r_mat_for_mols_old import mol_r_matrices, check_commute\n",
    "import warnings\n",
    "warnings.simplefilter(\"ignore\", category=PendingDeprecationWarning)\n"
   ]
  },
  {
   "cell_type": "markdown",
   "metadata": {},
   "source": [
    "# AO basis setup"
   ]
  },
  {
   "cell_type": "code",
   "execution_count": 2,
   "metadata": {},
   "outputs": [
    {
     "name": "stdout",
     "output_type": "stream",
     "text": [
      "BeH2\n",
      "converged SCF energy = -15.5613526278409\n"
     ]
    },
    {
     "name": "stderr",
     "output_type": "stream",
     "text": [
      "/home/k/quantum_code/test_env/lib/python3.6/site-packages/pyscf/scf/chkfile.py:31: H5pyDeprecationWarning: The default file mode will change to 'r' (read-only) in h5py 3.0. To suppress this warning, pass the mode you need to h5py.File(), or set the global default h5.get_config().default_file_mode, or set the environment variable H5PY_DEFAULT_READONLY=1. Available modes are: 'r', 'r+', 'w', 'w-'/'x', 'a'. See the docs for details.\n",
      "  with h5py.File(chkfile) as fh5:\n"
     ]
    },
    {
     "name": "stdout",
     "output_type": "stream",
     "text": [
      "checking the v matrix...\n",
      "v matrix is  unitary.\n"
     ]
    }
   ],
   "source": [
    "# Change the following flag to true to print the R matrices.\n",
    "# The order of the \n",
    "FLAG_PRINT_R_MATRICES = False\n",
    "AO = True\n",
    "# R matrices have been coded for, 'H2', 'H2O_l', 'H2O', 'NH3', 'BeH2', 'C2H2', 'C2H4', 'LiH'\n",
    "molecule = 'BeH2'\n",
    "# The following flag is for checking if all the r matrices commute with the Hamiltonian.\n",
    "# All the r matrices in the file r_mat_for_mols_old .py have been checked. If new r_matrices are added \n",
    "# then the flag could be turned to True.\n",
    "check_r_mat_commut=False\n",
    "# This calculates the reference eigenspectrum. Make the following\n",
    "# flag true, only when the system is small.\n",
    "check_ref_energy = True\n",
    "# r_mat_func \n",
    "x = r_mat_funcs(molecule, check_r_mat_commut,AO)\n",
    "# printing the R-matrices for BeH2\n",
    "counter = 1\n",
    "if FLAG_PRINT_R_MATRICES:\n",
    "    for i in x.r_matrices:\n",
    "        print('R'+str(counter)+' = ')\n",
    "        print(i)\n",
    "        counter+=1\n",
    "# The R-matrices are simultaneously diagonalized\n",
    "[r_mat_evals,v_matrix] = x.sim_diag(x.r_matrices)\n"
   ]
  },
  {
   "cell_type": "code",
   "execution_count": 3,
   "metadata": {},
   "outputs": [
    {
     "name": "stdout",
     "output_type": "stream",
     "text": [
      "Number of terms in the Hamiltonian in AO basis\n",
      "1150\n",
      "Final number of terms in the Hamiltonian in AO basis after the transformation\n",
      "666\n"
     ]
    }
   ],
   "source": [
    "# Getting the qubit opertor form of Hamiltonian\n",
    "qub_op = x.fer_op.mapping('jordan_wigner')\n",
    "# Total number of terms in the qubit operator Hamiltonian\n",
    "qub_op.chop()\n",
    "print('Number of terms in the Hamiltonian in AO basis')\n",
    "print(len(qub_op._paulis))\n",
    "\n",
    "# Getting and transforming the Ham with V matrix.\n",
    "v_qubit_op = x.sym_transf_ham_qub_op(v_matrix)\n",
    "\n",
    "#Printing the number of terms in the Hamiltonian\n",
    "print('Final number of terms in the Hamiltonian in AO basis after the transformation')\n",
    "print(len(v_qubit_op._paulis))"
   ]
  },
  {
   "cell_type": "code",
   "execution_count": 4,
   "metadata": {},
   "outputs": [
    {
     "name": "stdout",
     "output_type": "stream",
     "text": [
      "Eigen value of the full Ham in AO basis\n",
      "[-19.079-0.j -18.877+0.j -18.877+0.j]\n"
     ]
    }
   ],
   "source": [
    "# Sanity check. Calculate the spectrum of Hamiltonian\n",
    "if check_ref_energy ==True:\n",
    "    ee = ExactEigensolver(qub_op, k=3)\n",
    "    ee_result = ee.run()\n",
    "#   Get the first three eigenvalues of the Hamiltonian spectrum\n",
    "    ref_min_eigvals = ee_result['eigvals'][0:3]\n",
    "    # This is the reference value from Hamiltonian in AO basis\n",
    "    print('Eigen value of the full Ham in AO basis')\n",
    "    print(ref_min_eigvals)\n",
    "\n",
    "# The symmetries are not independent, so, the following code gets the independent set of symmetries.\n",
    "r_mat_evals = x.ind_symm_r_ev_mat(r_mat_evals)\n",
    "sym_list = x.get_symm_list(r_mat_evals)\n",
    "\n"
   ]
  },
  {
   "cell_type": "code",
   "execution_count": 6,
   "metadata": {},
   "outputs": [
    {
     "name": "stdout",
     "output_type": "stream",
     "text": [
      "check the commutativity of the found symmetry paulis between H'.\n",
      "ZZIIIIIIIIIIII\t1.0\n",
      "\n",
      "[12, 13]\n",
      "symmetry  commutes with the Hamiltonian.\n",
      "IIZZIIIIIIIIII\t1.0\n",
      "\n",
      "[10, 11]\n",
      "symmetry  commutes with the Hamiltonian.\n",
      "IIIIZZZZIIIIII\t1.0\n",
      "\n",
      "[6, 7, 8, 9]\n",
      "symmetry  commutes with the Hamiltonian.\n",
      "ZIZIZZIIZZZIII\t1.0\n",
      "\n",
      "[3, 4, 5, 8, 9, 11, 13]\n",
      "symmetry  commutes with the Hamiltonian.\n",
      "ZIZIZZIIIIIZZZ\t1.0\n",
      "\n",
      "[0, 1, 2, 8, 9, 11, 13]\n",
      "symmetry  commutes with the Hamiltonian.\n"
     ]
    }
   ],
   "source": [
    "# In order to check if the symmetries commute with Ham, uncomment the following piece of code:\n",
    "print(\"check the commutativity of the found symmetry paulis between H'.\")\n",
    "for symm in sym_list:\n",
    "    symm_op = Operator(paulis=[[1.0, symm]])\n",
    "    is_commutes = check_commute(symm_op, v_qubit_op)\n",
    "    print(symm_op.print_operators())\n",
    "    # symm_op.to_matrix()\n",
    "    # print('Trace of the operators')\n",
    "    # print(np.trace(symm_op._matrix.todense()))\n",
    "    sym_la = symm.to_label()[::-1]\n",
    "    ind = [i for i, a in enumerate(sym_la) if a == 'Z']\n",
    "    print(ind)\n",
    "    print(\"symmetry {} commutes with the Hamiltonian.\".format(\"\" if is_commutes else \"NOT\"))\n",
    "\n",
    "# exit()\n",
    "# Get the unitary operators (cliffords) corresponding the single qubit string.\n",
    "\n"
   ]
  },
  {
   "cell_type": "code",
   "execution_count": 8,
   "metadata": {},
   "outputs": [
    {
     "name": "stdout",
     "output_type": "stream",
     "text": [
      "Following are the qubits which are tappered off.\n",
      "[12, 10, 6, 3, 0]\n",
      "Trying to tapering\n",
      "at sector [1, 1, 1, 1, 1]: eig value: (-18.56322747526113-1.769417815513804e-16j); reference: [-19.079 -18.877 -18.877]\n",
      "at sector [1, 1, 1, 1, -1]: eig value: (-18.63558372129266+2.5096035288891392e-17j); reference: [-19.079 -18.877 -18.877]\n",
      "at sector [1, 1, 1, -1, 1]: eig value: (-18.63558372129268+2.3978979155952983e-16j); reference: [-19.079 -18.877 -18.877]\n",
      "at sector [1, 1, 1, -1, -1]: eig value: (-19.078889372592677+1.6485125388163513e-16j); reference: [-19.079 -18.877 -18.877]\n",
      "at sector [1, 1, -1, 1, 1]: eig value: (-18.65675954846912+3.327082406515677e-16j); reference: [-19.079 -18.877 -18.877]\n",
      "at sector [1, 1, -1, 1, -1]: eig value: (-18.645545229515033+1.6182317017319728e-16j); reference: [-19.079 -18.877 -18.877]\n",
      "at sector [1, 1, -1, -1, 1]: eig value: (-18.645545229514955-2.706763704409162e-16j); reference: [-19.079 -18.877 -18.877]\n",
      "at sector [1, 1, -1, -1, -1]: eig value: (-18.6567595484691-5.083838836107456e-17j); reference: [-19.079 -18.877 -18.877]\n",
      "at sector [1, -1, 1, 1, 1]: eig value: (-18.87685668342616-1.4293892548883985e-16j); reference: [-19.079 -18.877 -18.877]\n",
      "at sector [1, -1, 1, 1, -1]: eig value: (-18.78407432497576+3.369921579491512e-16j); reference: [-19.079 -18.877 -18.877]\n",
      "at sector [1, -1, 1, -1, 1]: eig value: (-18.78407432497587+6.885716230422229e-17j); reference: [-19.079 -18.877 -18.877]\n",
      "at sector [1, -1, 1, -1, -1]: eig value: (-18.87685668342616-1.265011285202821e-16j); reference: [-19.079 -18.877 -18.877]\n",
      "at sector [1, -1, -1, 1, 1]: eig value: (-18.812712802661835-1.6942824177367873e-16j); reference: [-19.079 -18.877 -18.877]\n",
      "at sector [1, -1, -1, 1, -1]: eig value: (-18.449169488541887+3.9489512242457135e-16j); reference: [-19.079 -18.877 -18.877]\n",
      "at sector [1, -1, -1, -1, 1]: eig value: (-18.449169488541806-3.374395912482086e-17j); reference: [-19.079 -18.877 -18.877]\n",
      "at sector [1, -1, -1, -1, -1]: eig value: (-18.812712802661856-2.455435427433709e-16j); reference: [-19.079 -18.877 -18.877]\n",
      "at sector [-1, 1, 1, 1, 1]: eig value: (-18.87685668342622+3.3409689536077943e-17j); reference: [-19.079 -18.877 -18.877]\n",
      "at sector [-1, 1, 1, 1, -1]: eig value: (-18.78407432497584-5.455683744820933e-17j); reference: [-19.079 -18.877 -18.877]\n",
      "at sector [-1, 1, 1, -1, 1]: eig value: (-18.78407432497584-8.043394344280562e-17j); reference: [-19.079 -18.877 -18.877]\n",
      "at sector [-1, 1, 1, -1, -1]: eig value: (-18.87685668342624-3.5612131689611284e-16j); reference: [-19.079 -18.877 -18.877]\n",
      "at sector [-1, 1, -1, 1, 1]: eig value: (-18.812712802662016+1.9141248002009548e-16j); reference: [-19.079 -18.877 -18.877]\n",
      "at sector [-1, 1, -1, 1, -1]: eig value: (-18.4491694885418-1.1921404254144466e-16j); reference: [-19.079 -18.877 -18.877]\n",
      "at sector [-1, 1, -1, -1, 1]: eig value: (-18.449169488541763-1.5186314823262393e-17j); reference: [-19.079 -18.877 -18.877]\n",
      "at sector [-1, 1, -1, -1, -1]: eig value: (-18.812712802661853-1.340033359536709e-16j); reference: [-19.079 -18.877 -18.877]\n",
      "at sector [-1, -1, 1, 1, 1]: eig value: (-18.551474136380165-1.081594487855564e-17j); reference: [-19.079 -18.877 -18.877]\n",
      "at sector [-1, -1, 1, 1, -1]: eig value: (-18.583455062745273-5.881796785733862e-17j); reference: [-19.079 -18.877 -18.877]\n",
      "at sector [-1, -1, 1, -1, 1]: eig value: (-18.583455062745237-1.2237260223147607e-16j); reference: [-19.079 -18.877 -18.877]\n",
      "at sector [-1, -1, 1, -1, -1]: eig value: (-18.551474136380033-6.971740039708768e-17j); reference: [-19.079 -18.877 -18.877]\n",
      "at sector [-1, -1, -1, 1, 1]: eig value: (-18.603034983970776+1.1481380594980045e-16j); reference: [-19.079 -18.877 -18.877]\n",
      "at sector [-1, -1, -1, 1, -1]: eig value: (-18.59083191151702-1.7021914161989983e-17j); reference: [-19.079 -18.877 -18.877]\n",
      "at sector [-1, -1, -1, -1, 1]: eig value: (-18.590831911517096-2.9007163104677434e-16j); reference: [-19.079 -18.877 -18.877]\n",
      "at sector [-1, -1, -1, -1, -1]: eig value: (-18.603034983970737+6.50452049296003e-17j); reference: [-19.079 -18.877 -18.877]\n",
      "Getting the eigen values of the tappered off qubit operator\n",
      "[-19.079-0.j -18.563-0.j -18.53 +0.j -18.496+0.j -18.349-0.j -18.145-0.j]\n"
     ]
    }
   ],
   "source": [
    "[cliffords, single_qubit_list] = x.get_cliffords(r_mat_evals,sym_list)\n",
    "print('Following are the qubits which are tappered off.')\n",
    "print(single_qubit_list)\n",
    "\n",
    "print(\"Trying to tapering\")\n",
    "correct_sector = None\n",
    "for taper_coeff in itertools.product([1, -1], repeat=len(single_qubit_list)):\n",
    "    tapered_qubit_op = Operator.qubit_tapering(v_qubit_op, cliffords, single_qubit_list, list(taper_coeff))\n",
    "    ee = ExactEigensolver(tapered_qubit_op, k=1)\n",
    "    ee_result = ee.run()\n",
    "    temp_min_eigvals = ee_result['eigvals'][0]\n",
    "    if np.isclose(temp_min_eigvals, ref_min_eigvals[0], rtol=1e-8):\n",
    "        correct_sector = list(taper_coeff)\n",
    "    print(\"at sector {}: eig value: {}; reference: {}\".format(list(taper_coeff), temp_min_eigvals, ref_min_eigvals.real))\n",
    "\n",
    "# correct_sector=[1.,1.,1.,-1.,-1.]\n",
    "\n",
    "# Get the tappered qubit operator\n",
    "tapered_qubit_op = x.get_tapered_qubit_op(v_qubit_op,cliffords,single_qubit_list,correct_sector)\n",
    "ee = ExactEigensolver(tapered_qubit_op.copy(), k=6)\n",
    "ee_result = ee.run()\n",
    "print('Getting the eigen values of the tappered off qubit operator')\n",
    "print(ee_result['eigvals'][0:6])\n"
   ]
  },
  {
   "cell_type": "markdown",
   "metadata": {},
   "source": [
    "# Molecular orbital basis\n"
   ]
  },
  {
   "cell_type": "code",
   "execution_count": 9,
   "metadata": {},
   "outputs": [
    {
     "name": "stdout",
     "output_type": "stream",
     "text": [
      "BeH2\n",
      "converged SCF energy = -15.5613526278408\n"
     ]
    },
    {
     "name": "stderr",
     "output_type": "stream",
     "text": [
      "/home/k/quantum_code/test_env/lib/python3.6/site-packages/pyscf/scf/chkfile.py:31: H5pyDeprecationWarning: The default file mode will change to 'r' (read-only) in h5py 3.0. To suppress this warning, pass the mode you need to h5py.File(), or set the global default h5.get_config().default_file_mode, or set the environment variable H5PY_DEFAULT_READONLY=1. Available modes are: 'r', 'r+', 'w', 'w-'/'x', 'a'. See the docs for details.\n",
      "  with h5py.File(chkfile) as fh5:\n"
     ]
    },
    {
     "name": "stdout",
     "output_type": "stream",
     "text": [
      "[-19.079-0.j -18.877+0.j -18.877+0.j -18.877+0.j -18.877-0.j -18.813+0.j]\n"
     ]
    }
   ],
   "source": [
    "from qiskit.chemistry.drivers import PySCFDriver, UnitsType\n",
    "from qiskit.aqua.algorithms import ExactEigensolver\n",
    "from qiskit.chemistry import QMolecule\n",
    "import warnings\n",
    "from qiskit.chemistry.fermionic_operator import FermionicOperator\n",
    "warnings.filterwarnings(\"ignore\",category=DeprecationWarning)\n",
    "\n",
    "FLAG_PRINT_R_MATRICES = False\n",
    "AO = True\n",
    "# R matrices have been coded for, 'H2', 'H2O_l', 'H2O', 'NH3', 'BeH2', 'C2H2', 'C2H4', 'LiH'\n",
    "molecule = 'BeH2'\n",
    "# The following flag is for checking if all the r matrices commute with the Hamiltonian.\n",
    "# All the r matrices in the file r_mat_for_mols_old .py have been checked. If new r_matrices are added \n",
    "# then the flag could be turned to True.\n",
    "check_r_mat_commut=False\n",
    "# This calculates the reference eigenspectrum. Make the following\n",
    "# flag true, only when the system is small.\n",
    "check_ref_energy = True\n",
    "# r_mat_func \n",
    "x = r_mat_funcs(molecule, check_r_mat_commut,AO)\n",
    "qub_op = x.fer_op.mapping('jordan_wigner')\n",
    "# Total number of terms in the qubit operator Hamiltonian\n",
    "qub_op.chop()\n",
    "\n",
    "ee = ExactEigensolver(qub_op, k=6)\n",
    "ee_result = ee.run()\n",
    "ref_min_eigvals = ee_result['eigvals'][0:6]\n",
    "print(ref_min_eigvals)"
   ]
  },
  {
   "cell_type": "code",
   "execution_count": null,
   "metadata": {},
   "outputs": [],
   "source": []
  },
  {
   "cell_type": "code",
   "execution_count": null,
   "metadata": {},
   "outputs": [],
   "source": []
  }
 ],
 "metadata": {
  "kernelspec": {
   "display_name": "Python 3",
   "language": "python",
   "name": "python3"
  },
  "language_info": {
   "codemirror_mode": {
    "name": "ipython",
    "version": 3
   },
   "file_extension": ".py",
   "mimetype": "text/x-python",
   "name": "python",
   "nbconvert_exporter": "python",
   "pygments_lexer": "ipython3",
   "version": "3.6.8"
  }
 },
 "nbformat": 4,
 "nbformat_minor": 2
}
